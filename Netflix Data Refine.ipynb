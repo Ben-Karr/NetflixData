{
 "cells": [
  {
   "cell_type": "code",
   "execution_count": 2,
   "metadata": {},
   "outputs": [],
   "source": [
    "import pandas as pd\n",
    "import numpy as np\n",
    "import matplotlib.pyplot as plt\n",
    "from pathlib import Path\n",
    "\n",
    "from collections import Counter #Count actors"
   ]
  },
  {
   "cell_type": "markdown",
   "metadata": {},
   "source": [
    "## Read in data"
   ]
  },
  {
   "cell_type": "code",
   "execution_count": 83,
   "metadata": {},
   "outputs": [],
   "source": [
    "src_path = Path('data/netflix_titles.csv')\n",
    "df_src = pd.read_csv(src_path)"
   ]
  },
  {
   "cell_type": "markdown",
   "metadata": {},
   "source": [
    "## Function"
   ]
  },
  {
   "cell_type": "code",
   "execution_count": 167,
   "metadata": {},
   "outputs": [],
   "source": [
    "def country_by_genre(df\n",
    "                    ,keep_features = ['show_id','title','country','listed_in','rating']\n",
    "                    ,keep_countries = ['Germany','Brazil']\n",
    "                    ,keep_genres = ['Action & Adventure', 'Comedies']\n",
    "                    ):\n",
    "    df_tmp = df.copy()\n",
    "\n",
    "    df_tmp.country = df_tmp.country.fillna('').apply(lambda x: x.split(', '))\n",
    "    df_tmp.listed_in = df_tmp.listed_in.fillna('').apply(lambda x: x.split(', '))\n",
    "    \n",
    "    df_tmp = df_tmp[keep_features].explode('country').explode('listed_in')\n",
    "    df_tmp.reset_index(drop=True, inplace=True)\n",
    "\n",
    "    df_tmp = df_tmp[df_tmp['country'].isin(keep_countries)]\n",
    "    df_tmp = df_tmp[df_tmp['listed_in'].isin(keep_genres)]\n",
    "    \n",
    "    df_tmp = df_tmp.groupby(['country','listed_in']).size().unstack().fillna(0).astype(int)\n",
    "    \n",
    "    return df_tmp"
   ]
  },
  {
   "cell_type": "code",
   "execution_count": 168,
   "metadata": {},
   "outputs": [
    {
     "data": {
      "text/html": [
       "<div>\n",
       "<style scoped>\n",
       "    .dataframe tbody tr th:only-of-type {\n",
       "        vertical-align: middle;\n",
       "    }\n",
       "\n",
       "    .dataframe tbody tr th {\n",
       "        vertical-align: top;\n",
       "    }\n",
       "\n",
       "    .dataframe thead th {\n",
       "        text-align: right;\n",
       "    }\n",
       "</style>\n",
       "<table border=\"1\" class=\"dataframe\">\n",
       "  <thead>\n",
       "    <tr style=\"text-align: right;\">\n",
       "      <th>listed_in</th>\n",
       "      <th>Action &amp; Adventure</th>\n",
       "      <th>Comedies</th>\n",
       "    </tr>\n",
       "    <tr>\n",
       "      <th>country</th>\n",
       "      <th></th>\n",
       "      <th></th>\n",
       "    </tr>\n",
       "  </thead>\n",
       "  <tbody>\n",
       "    <tr>\n",
       "      <th>Brazil</th>\n",
       "      <td>3</td>\n",
       "      <td>17</td>\n",
       "    </tr>\n",
       "    <tr>\n",
       "      <th>Germany</th>\n",
       "      <td>27</td>\n",
       "      <td>38</td>\n",
       "    </tr>\n",
       "  </tbody>\n",
       "</table>\n",
       "</div>"
      ],
      "text/plain": [
       "listed_in  Action & Adventure  Comedies\n",
       "country                                \n",
       "Brazil                      3        17\n",
       "Germany                    27        38"
      ]
     },
     "execution_count": 168,
     "metadata": {},
     "output_type": "execute_result"
    }
   ],
   "source": [
    "country_by_genre(df_src)"
   ]
  }
 ],
 "metadata": {
  "kernelspec": {
   "display_name": "Python [conda env:fastai2] *",
   "language": "python",
   "name": "conda-env-fastai2-py"
  },
  "language_info": {
   "codemirror_mode": {
    "name": "ipython",
    "version": 3
   },
   "file_extension": ".py",
   "mimetype": "text/x-python",
   "name": "python",
   "nbconvert_exporter": "python",
   "pygments_lexer": "ipython3",
   "version": "3.8.5"
  }
 },
 "nbformat": 4,
 "nbformat_minor": 4
}
